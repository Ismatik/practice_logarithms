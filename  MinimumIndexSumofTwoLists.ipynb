{
 "cells": [
  {
   "cell_type": "markdown",
   "metadata": {},
   "source": [
    "Given two arrays of strings list1 and list2, find the common strings with the least index sum.\n",
    "\n",
    "A common string is a string that appeared in both list1 and list2.\n",
    "\n",
    "A common string with the least index sum is a common string such that if it appeared at list1[i] and list2[j] then i + j should be the minimum value among all the other common strings.\n",
    "\n",
    "Return all the common strings with the least index sum. Return the answer in any order.\n",
    "\n",
    " \n",
    "\n",
    "Example 1:\n",
    "\n",
    "Input: list1 = [\"Shogun\",\"Tapioca Express\",\"Burger King\",\"KFC\"], list2 = [\"Piatti\",\"The Grill at Torrey Pines\",\"Hungry Hunter Steakhouse\",\"Shogun\"]\n",
    "Output: [\"Shogun\"]\n",
    "Explanation: The only common string is \"Shogun\".\n",
    "Example 2:\n",
    "\n",
    "Input: list1 = [\"Shogun\",\"Tapioca Express\",\"Burger King\",\"KFC\"], list2 = [\"KFC\",\"Shogun\",\"Burger King\"]\n",
    "Output: [\"Shogun\"]\n",
    "Explanation: The common string with the least index sum is \"Shogun\" with index sum = (0 + 1) = 1.\n",
    "Example 3:\n",
    "\n",
    "Input: list1 = [\"happy\",\"sad\",\"good\"], list2 = [\"sad\",\"happy\",\"good\"]\n",
    "Output: [\"sad\",\"happy\"]\n",
    "Explanation: There are three common strings:\n",
    "\"happy\" with index sum = (0 + 1) = 1.\n",
    "\"sad\" with index sum = (1 + 0) = 1.\n",
    "\"good\" with index sum = (2 + 2) = 4.\n",
    "The strings with the least index sum are \"sad\" and \"happy\".\n",
    " \n",
    "\n",
    "Constraints:\n",
    "\n",
    "1 <= list1.length, list2.length <= 1000\n",
    "1 <= list1[i].length, list2[i].length <= 30\n",
    "list1[i] and list2[i] consist of spaces ' ' and English letters.\n",
    "All the strings of list1 are unique.\n",
    "All the strings of list2 are unique.\n",
    "There is at least a common string between list1 and list2."
   ]
  },
  {
   "cell_type": "code",
   "execution_count": 3,
   "metadata": {},
   "outputs": [
    {
     "name": "stdout",
     "output_type": "stream",
     "text": [
      "{'happy': 1, 'sad': 1, 'good': 4}\n"
     ]
    },
    {
     "data": {
      "text/plain": [
       "['happy', 'sad']"
      ]
     },
     "execution_count": 3,
     "metadata": {},
     "output_type": "execute_result"
    }
   ],
   "source": [
    "class Solution:\n",
    "    def findRestaurant(self, list1: list[str], list2: list[str]) -> list[str]:\n",
    "        res = {}\n",
    "        for i in list1:\n",
    "            try:\n",
    "                res[i] = (list2.index(i) + list1.index(i))\n",
    "            except ValueError:\n",
    "                continue\n",
    "        print(res)\n",
    "        output = []\n",
    "        for key,items in res.items():\n",
    "            if int(items)== res[min(res, key=res.get)]:\n",
    "                output += [key]\n",
    "                \n",
    "        return output\n",
    "            \n",
    "            \n",
    "# Solution().findRestaurant([\"Shogun\",\"Tapioca Express\",\"Burger King\",\"KFC\"], [\"Piatti\",\"The Grill at Torrey Pines\",\"Hungry Hunter Steakhouse\",\"Shogun\"])\n",
    "Solution().findRestaurant([\"happy\",\"sad\",\"good\"], [\"sad\",\"happy\",\"good\"])"
   ]
  }
 ],
 "metadata": {
  "kernelspec": {
   "display_name": "Python 3",
   "language": "python",
   "name": "python3"
  },
  "language_info": {
   "codemirror_mode": {
    "name": "ipython",
    "version": 3
   },
   "file_extension": ".py",
   "mimetype": "text/x-python",
   "name": "python",
   "nbconvert_exporter": "python",
   "pygments_lexer": "ipython3",
   "version": "3.12.0"
  }
 },
 "nbformat": 4,
 "nbformat_minor": 2
}
