{
 "cells": [
  {
   "cell_type": "markdown",
   "metadata": {},
   "source": [
    "Given two binary strings a and b, return their sum as a binary string.\n",
    "\n",
    " \n",
    "\n",
    "Example 1:\n",
    "\n",
    "Input: a = \"11\", b = \"1\"\n",
    "Output: \"100\"\n",
    "Example 2:\n",
    "\n",
    "Input: a = \"1010\", b = \"1011\"\n",
    "Output: \"10101\""
   ]
  },
  {
   "cell_type": "code",
   "execution_count": 6,
   "metadata": {},
   "outputs": [
    {
     "data": {
      "text/plain": [
       "'10001'"
      ]
     },
     "execution_count": 6,
     "metadata": {},
     "output_type": "execute_result"
    }
   ],
   "source": [
    "class Solution(object):\n",
    "    def addBinary(self, a, b):\n",
    "        \"\"\"\n",
    "        :type a: str\n",
    "        :type b: str\n",
    "        :rtype: str\n",
    "        \"\"\"\n",
    "        max_len = max(len(a), len(b))\n",
    "        a = a.zfill(max_len)\n",
    "        b = b.zfill(max_len)\n",
    "        # print(a, b)\n",
    "        \n",
    "        # Initialize the result\n",
    "        result = ''\n",
    "        \n",
    "        # Initialize the carry\n",
    "        carry = 0\n",
    "        \n",
    "        # Traverse the string\n",
    "        for i in range(max_len - 1, -1, -1):\n",
    "            r = carry\n",
    "            r += 1 if a[i] == '1' else 0\n",
    "            r += 1 if b[i] == '1' else 0\n",
    "            result = ('1' if r % 2 == 1 else '0') + result\n",
    "            # print(result)\n",
    "        \n",
    "            # Compute the carry.\n",
    "            carry = 0 if r < 2 else 1\n",
    "        \n",
    "        if carry != 0:\n",
    "            result = '1' + result\n",
    "        \n",
    "        return result.zfill(max_len)\n",
    "        \n",
    "    \n",
    "Solution().addBinary(\"11\",\"1\")"
   ]
  }
 ],
 "metadata": {
  "kernelspec": {
   "display_name": "Python 3",
   "language": "python",
   "name": "python3"
  },
  "language_info": {
   "codemirror_mode": {
    "name": "ipython",
    "version": 3
   },
   "file_extension": ".py",
   "mimetype": "text/x-python",
   "name": "python",
   "nbconvert_exporter": "python",
   "pygments_lexer": "ipython3",
   "version": "3.12.0"
  }
 },
 "nbformat": 4,
 "nbformat_minor": 2
}
