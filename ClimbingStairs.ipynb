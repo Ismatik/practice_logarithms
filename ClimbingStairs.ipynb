{
 "cells": [
  {
   "cell_type": "markdown",
   "metadata": {},
   "source": [
    "You are climbing a staircase. It takes n steps to reach the top.\n",
    "\n",
    "Each time you can either climb 1 or 2 steps. In how many distinct ways can you climb to the top?\n",
    "\n",
    " \n",
    "\n",
    "Example 1:\n",
    "\n",
    "Input: n = 2\n",
    "Output: 2\n",
    "Explanation: There are two ways to climb to the top.\n",
    "1. 1 step + 1 step\n",
    "2. 2 steps\n",
    "Example 2:\n",
    "\n",
    "Input: n = 3\n",
    "Output: 3\n",
    "Explanation: There are three ways to climb to the top.\n",
    "1. 1 step + 1 step + 1 step\n",
    "2. 1 step + 2 steps\n",
    "3. 2 steps + 1 step"
   ]
  },
  {
   "cell_type": "code",
   "execution_count": null,
   "metadata": {},
   "outputs": [],
   "source": [
    "class Solution:\n",
    "    def climbStairs(self, n: int) -> int:\n",
    "        if n == 1 or n == 0:\n",
    "            return 1\n",
    "        return self.climbStairs(n-1) + self.climbStairs(n-2)"
   ]
  }
 ],
 "metadata": {
  "language_info": {
   "name": "python"
  }
 },
 "nbformat": 4,
 "nbformat_minor": 2
}
