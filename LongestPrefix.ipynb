{
 "cells": [
  {
   "cell_type": "markdown",
   "metadata": {},
   "source": [
    "Write a function to find the longest common prefix string amongst an array of strings.\n",
    "\n",
    "If there is no common prefix, return an empty string \"\".\n",
    "\n",
    " \n",
    "\n",
    "Example 1:\n",
    "\n",
    "Input: strs = [\"flower\",\"flow\",\"flight\"]\n",
    "Output: \"fl\"\n",
    "Example 2:\n",
    "\n",
    "Input: strs = [\"dog\",\"racecar\",\"car\"]\n",
    "Output: \"\"\n",
    "Explanation: There is no common prefix among the input strings.\n",
    " \n",
    "\n",
    "Constraints:\n",
    "\n",
    "1 <= strs.length <= 200\n",
    "0 <= strs[i].length <= 200\n",
    "strs[i] consists of only lowercase English letters."
   ]
  },
  {
   "cell_type": "code",
   "execution_count": 87,
   "metadata": {},
   "outputs": [
    {
     "data": {
      "text/plain": [
       "''"
      ]
     },
     "execution_count": 87,
     "metadata": {},
     "output_type": "execute_result"
    }
   ],
   "source": [
    "class Solution:\n",
    "    def longestCommonPrefix(self, strs: list[str]) -> str:\n",
    "        shortest = min(strs, key = len)\n",
    "        strs.remove(shortest)\n",
    "        if len(shortest) == 0:\n",
    "            return \"\"\n",
    "        if len(strs) == 0:\n",
    "            return shortest\n",
    "        result = \"\"\n",
    "        for i in range(1,len(shortest)+1):\n",
    "            for k in range(len(strs)):\n",
    "                # print(shortest[:i],strs[k][:i])\n",
    "                if shortest[:i] != strs[k][:i]:\n",
    "                    return result\n",
    "            result = shortest[:i]\n",
    "        return result\n",
    "                    \n",
    "    \n",
    "                \n",
    "            \n",
    "            \n",
    "            \n",
    "            \n",
    "        \n",
    "    \n",
    "Solution().longestCommonPrefix([\"dog\",\"racecar\",\"car\"])\n",
    "\n",
    "# print(len(strs))\n",
    "#         for i in range(1, len(strs)):\n",
    "#             if strs[0] != strs[i]: \n",
    "#                 continue\n",
    "#             counter += 1\n",
    "#             print(counter)"
   ]
  },
  {
   "cell_type": "markdown",
   "metadata": {},
   "source": [
    "Best solution"
   ]
  },
  {
   "cell_type": "code",
   "execution_count": 24,
   "metadata": {},
   "outputs": [
    {
     "name": "stdout",
     "output_type": "stream",
     "text": [
      "['']\n"
     ]
    },
    {
     "data": {
      "text/plain": [
       "''"
      ]
     },
     "execution_count": 24,
     "metadata": {},
     "output_type": "execute_result"
    }
   ],
   "source": [
    "class Solution:\n",
    "    def longestCommonPrefix(self, v: list[str]) -> str:\n",
    "        ans=\"\"\n",
    "        v=sorted(v)\n",
    "        first=v[0]\n",
    "        last=v[-1]\n",
    "        print(v)\n",
    "        for i in range(min(len(first),len(last))):\n",
    "            # print(i)\n",
    "            # print(first[i], last[i])\n",
    "            if(first[i]!=last[i]):\n",
    "                return ans\n",
    "            ans+=first[i]\n",
    "        return ans \n",
    "    \n",
    "Solution().longestCommonPrefix([\n",
    "    \"\"\n",
    "])"
   ]
  }
 ],
 "metadata": {
  "kernelspec": {
   "display_name": "Python 3",
   "language": "python",
   "name": "python3"
  },
  "language_info": {
   "codemirror_mode": {
    "name": "ipython",
    "version": 3
   },
   "file_extension": ".py",
   "mimetype": "text/x-python",
   "name": "python",
   "nbconvert_exporter": "python",
   "pygments_lexer": "ipython3",
   "version": "3.12.0"
  }
 },
 "nbformat": 4,
 "nbformat_minor": 2
}
