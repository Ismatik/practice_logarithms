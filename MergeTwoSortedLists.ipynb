{
 "cells": [
  {
   "cell_type": "markdown",
   "metadata": {},
   "source": [
    "You are given the heads of two sorted linked lists list1 and list2.\n",
    "\n",
    "Merge the two lists into one sorted list. The list should be made by splicing together the nodes of the first two lists.\n",
    "\n",
    "Return the head of the merged linked list."
   ]
  },
  {
   "cell_type": "code",
   "execution_count": 4,
   "metadata": {},
   "outputs": [
    {
     "data": {
      "text/plain": [
       "<__main__.ListNode at 0x184bde9d240>"
      ]
     },
     "execution_count": 4,
     "metadata": {},
     "output_type": "execute_result"
    }
   ],
   "source": [
    "# Definition for singly-linked list.\n",
    "class ListNode:\n",
    "    def __init__(self, val=0, next=None):\n",
    "        self.val = val\n",
    "        self.next = next\n",
    "class Solution:\n",
    "    def mergeTwoLists(self, list1: \"optional[ListNode]\", list2: \"optional[ListNode]\") -> \"Optional[ListNode]\":\n",
    "        result = curr = ListNode()\n",
    "        if list2 == [] and list1 == []:\n",
    "            return ListNode()\n",
    " \n",
    "        while list1 != [] and list2 != []:\n",
    "            if list1.val < list2.val:\n",
    "                result.val , list1 = list1.val , list1.next\n",
    "\n",
    "            else:\n",
    "                result.val , list2 = list2.val , list2.next\n",
    "            \n",
    "            result = result.next\n",
    "\n",
    "        return result    \n",
    "\n",
    "Solution().mergeTwoLists([] ,[])"
   ]
  }
 ],
 "metadata": {
  "kernelspec": {
   "display_name": "Python 3",
   "language": "python",
   "name": "python3"
  },
  "language_info": {
   "codemirror_mode": {
    "name": "ipython",
    "version": 3
   },
   "file_extension": ".py",
   "mimetype": "text/x-python",
   "name": "python",
   "nbconvert_exporter": "python",
   "pygments_lexer": "ipython3",
   "version": "3.10.6"
  }
 },
 "nbformat": 4,
 "nbformat_minor": 2
}
