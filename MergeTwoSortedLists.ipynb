{
 "cells": [
  {
   "cell_type": "markdown",
   "metadata": {},
   "source": [
    "You are given the heads of two sorted linked lists list1 and list2.\n",
    "\n",
    "Merge the two lists into one sorted list. The list should be made by splicing together the nodes of the first two lists.\n",
    "\n",
    "Return the head of the merged linked list."
   ]
  },
  {
   "cell_type": "code",
   "execution_count": 3,
   "metadata": {},
   "outputs": [
    {
     "ename": "TypeError",
     "evalue": "object of type 'int' has no len()",
     "output_type": "error",
     "traceback": [
      "\u001b[1;31m---------------------------------------------------------------------------\u001b[0m",
      "\u001b[1;31mTypeError\u001b[0m                                 Traceback (most recent call last)",
      "\u001b[1;32mIsmatik\\practice_logarithms\\MergeTwoSortedLists.ipynb Cell 2\u001b[0m line \u001b[0;36m1\n\u001b[0;32m     <a href='vscode-notebook-cell://github/Ismatik/practice_logarithms/MergeTwoSortedLists.ipynb#W1sdnNjb2RlLXZmcw%3D%3D?line=10'>11</a>\u001b[0m         \u001b[39mfor\u001b[39;00m i \u001b[39min\u001b[39;00m \u001b[39mrange\u001b[39m(\u001b[39mlen\u001b[39m(\u001b[39m1\u001b[39m)):\n\u001b[0;32m     <a href='vscode-notebook-cell://github/Ismatik/practice_logarithms/MergeTwoSortedLists.ipynb#W1sdnNjb2RlLXZmcw%3D%3D?line=11'>12</a>\u001b[0m             \u001b[39mpass\u001b[39;00m\n\u001b[1;32m---> <a href='vscode-notebook-cell://github/Ismatik/practice_logarithms/MergeTwoSortedLists.ipynb#W1sdnNjb2RlLXZmcw%3D%3D?line=16'>17</a>\u001b[0m Solution()\u001b[39m.\u001b[39;49mmergeTwoLists([\u001b[39m1\u001b[39;49m,\u001b[39m2\u001b[39;49m,\u001b[39m3\u001b[39;49m],[\u001b[39m1\u001b[39;49m,\u001b[39m3\u001b[39;49m,\u001b[39m4\u001b[39;49m])\n",
      "\u001b[1;32mIsmatik\\practice_logarithms\\MergeTwoSortedLists.ipynb Cell 2\u001b[0m line \u001b[0;36m1\n\u001b[0;32m      <a href='vscode-notebook-cell://github/Ismatik/practice_logarithms/MergeTwoSortedLists.ipynb#W1sdnNjb2RlLXZmcw%3D%3D?line=7'>8</a>\u001b[0m     \u001b[39mreturn\u001b[39;00m list1\n\u001b[0;32m     <a href='vscode-notebook-cell://github/Ismatik/practice_logarithms/MergeTwoSortedLists.ipynb#W1sdnNjb2RlLXZmcw%3D%3D?line=9'>10</a>\u001b[0m result \u001b[39m=\u001b[39m []\n\u001b[1;32m---> <a href='vscode-notebook-cell://github/Ismatik/practice_logarithms/MergeTwoSortedLists.ipynb#W1sdnNjb2RlLXZmcw%3D%3D?line=10'>11</a>\u001b[0m \u001b[39mfor\u001b[39;00m i \u001b[39min\u001b[39;00m \u001b[39mrange\u001b[39m(\u001b[39mlen\u001b[39;49m(\u001b[39m1\u001b[39;49m)):\n\u001b[0;32m     <a href='vscode-notebook-cell://github/Ismatik/practice_logarithms/MergeTwoSortedLists.ipynb#W1sdnNjb2RlLXZmcw%3D%3D?line=11'>12</a>\u001b[0m     \u001b[39mpass\u001b[39;00m\n",
      "\u001b[1;31mTypeError\u001b[0m: object of type 'int' has no len()"
     ]
    }
   ],
   "source": [
    "class Solution:\n",
    "    def mergeTwoLists(self, list1:list, list2:list) -> list:\n",
    "        if len(list1) == 0 and len(list2):\n",
    "            return []\n",
    "        if len(list1) == 0:\n",
    "            return list2\n",
    "        if len(list2) == 0:\n",
    "            return list1\n",
    "        \n",
    "        result = []\n",
    "        for i in range(len([1])):\n",
    "            pass\n",
    "        \n",
    "        \n",
    "        \n",
    "    \n",
    "Solution().mergeTwoLists([1,2,3],[1,3,4])"
   ]
  },
  {
   "cell_type": "code",
   "execution_count": null,
   "metadata": {},
   "outputs": [],
   "source": []
  }
 ],
 "metadata": {
  "kernelspec": {
   "display_name": "Python 3",
   "language": "python",
   "name": "python3"
  },
  "language_info": {
   "codemirror_mode": {
    "name": "ipython",
    "version": 3
   },
   "file_extension": ".py",
   "mimetype": "text/x-python",
   "name": "python",
   "nbconvert_exporter": "python",
   "pygments_lexer": "ipython3",
   "version": "3.12.0"
  }
 },
 "nbformat": 4,
 "nbformat_minor": 2
}
