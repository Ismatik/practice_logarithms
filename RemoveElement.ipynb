{
 "cells": [
  {
   "cell_type": "markdown",
   "metadata": {},
   "source": [
    "Given an integer array nums and an integer val, remove all occurrences of val in nums in-place. The order of the elements may be changed. Then return the number of elements in nums which are not equal to val.\n",
    "\n",
    "Consider the number of elements in nums which are not equal to val be k, to get accepted, you need to do the following things:\n",
    "\n",
    "Change the array nums such that the first k elements of nums contain the elements which are not equal to val. The remaining elements of nums are not important as well as the size of nums.\n",
    "Return k.\n",
    "Custom Judge:\n",
    "\n",
    "The judge will test your solution with the following code:\n",
    "\n",
    "int[] nums = [...]; // Input array\n",
    "int val = ...; // Value to remove\n",
    "int[] expectedNums = [...]; // The expected answer with correct length.\n",
    "                            // It is sorted with no values equaling val.\n",
    "\n",
    "int k = removeElement(nums, val); // Calls your implementation\n",
    "\n",
    "assert k == expectedNums.length;\n",
    "sort(nums, 0, k); // Sort the first k elements of nums\n",
    "for (int i = 0; i < actualLength; i++) {\n",
    "    assert nums[i] == expectedNums[i];\n",
    "}\n",
    "If all assertions pass, then your solution will be accepted.\n",
    "\n",
    " \n",
    "\n",
    "Example 1:\n",
    "\n",
    "Input: nums = [3,2,2,3], val = 3\n",
    "Output: 2, nums = [2,2,_,_]\n",
    "Explanation: Your function should return k = 2, with the first two elements of nums being 2.\n",
    "It does not matter what you leave beyond the returned k (hence they are underscores).\n",
    "Example 2:\n",
    "\n",
    "Input: nums = [0,1,2,2,3,0,4,2], val = 2\n",
    "Output: 5, nums = [0,1,4,0,3,_,_,_]\n",
    "Explanation: Your function should return k = 5, with the first five elements of nums containing 0, 0, 1, 3, and 4.\n",
    "Note that the five elements can be returned in any order.\n",
    "It does not matter what you leave beyond the returned k (hence they are underscores)."
   ]
  },
  {
   "cell_type": "code",
   "execution_count": 38,
   "metadata": {},
   "outputs": [
    {
     "data": {
      "text/plain": [
       "(0, [])"
      ]
     },
     "execution_count": 38,
     "metadata": {},
     "output_type": "execute_result"
    }
   ],
   "source": [
    "class Solution:\n",
    "    def removeElement(self, nums: list[int], val: int) -> int:\n",
    "        if len(nums) == 1 and nums[0] == val:\n",
    "            return 0, []\n",
    "        if len(nums) == 0 or (len(nums) == 1 and nums != [val]):\n",
    "            return 0, nums\n",
    "        k = 0\n",
    "        for i in range(len(nums)):\n",
    "            if nums[i] != val:\n",
    "                nums[k] = nums[i]\n",
    "                k += 1\n",
    "            \n",
    "        return k\n",
    "    \n",
    "Solution().removeElement([1] , 1)         \n",
    "         \n",
    "            \n",
    "    \n",
    "\n"
   ]
  },
  {
   "cell_type": "code",
   "execution_count": 1,
   "metadata": {},
   "outputs": [
    {
     "name": "stdout",
     "output_type": "stream",
     "text": [
      "[123, 1, 2, 3, 4, 5, 5, 5, 5, 6, 6, 6, 7, 1, 1, 2, 2, 2, 2]\n",
      "[123, 4, 5, 5, 5, 5, 6, 6, 6, 7, 1, 1, 2, 2, 2, 2]\n"
     ]
    }
   ],
   "source": [
    "a = [1,2,3,4,5,5,5,5,6,6,6,7,1,1,2,2,2,2]\n",
    "a = [123] + a\n",
    "print(a)\n",
    "print(a[:1] + a[4:])\n",
    "\n",
    "        # for i in range(len(nums)):\n",
    "        #     if nums[i] == val:\n",
    "        #         nums = nums + [val]\n",
    "        #         nums.pop(val)\n",
    "        #         # print(f\"{nums[i-1:]} + {nums[:i]}\")\n",
    "        #         # nums = nums[:i] + nums[i:]\n",
    "        #         # print(f\"i = {i}\")\n",
    "        #         # print(f\"{nums[i+1:]} + {nums[:i]}\")\n",
    "        #         # counter += 1\n",
    "        #         # print(counter)\n",
    "        #         print(i)\n",
    "        #         print(nums)"
   ]
  },
  {
   "cell_type": "code",
   "execution_count": 33,
   "metadata": {},
   "outputs": [
    {
     "name": "stdout",
     "output_type": "stream",
     "text": [
      "[0, 1, 1, 1, 2, 3, 3, 4]\n",
      "[0, 1, 1, 1, 2, 3, 3, 4]\n",
      "[0, 1, 1, 1, 2, 3, 3, 4]\n",
      "[0, 1, 2, 1, 2, 3, 3, 4]\n",
      "[0, 1, 2, 3, 2, 3, 3, 4]\n",
      "[0, 1, 2, 3, 2, 3, 3, 4]\n",
      "[0, 1, 2, 3, 4, 3, 3, 4]\n"
     ]
    },
    {
     "data": {
      "text/plain": [
       "5"
      ]
     },
     "execution_count": 33,
     "metadata": {},
     "output_type": "execute_result"
    }
   ],
   "source": [
    "class Solution:\n",
    "    def removeElement(self, nums: List[int], val: int) -> int:\n",
    "        k = 0\n",
    "        for i in range(len(nums)):\n",
    "            if nums[i] != val:\n",
    "                nums[k] = nums[i]\n",
    "                k += 1\n",
    "            \n",
    "        return k\n"
   ]
  }
 ],
 "metadata": {
  "kernelspec": {
   "display_name": "Python 3",
   "language": "python",
   "name": "python3"
  },
  "language_info": {
   "codemirror_mode": {
    "name": "ipython",
    "version": 3
   },
   "file_extension": ".py",
   "mimetype": "text/x-python",
   "name": "python",
   "nbconvert_exporter": "python",
   "pygments_lexer": "ipython3",
   "version": "3.12.0"
  }
 },
 "nbformat": 4,
 "nbformat_minor": 2
}
