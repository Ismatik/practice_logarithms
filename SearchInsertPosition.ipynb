{
 "cells": [
  {
   "cell_type": "code",
   "execution_count": 5,
   "metadata": {},
   "outputs": [
    {
     "data": {
      "text/plain": [
       "2"
      ]
     },
     "execution_count": 5,
     "metadata": {},
     "output_type": "execute_result"
    }
   ],
   "source": [
    "# class Solution:\n",
    "#     def searchInsert(self, nums: list[int], target: int) -> int:\n",
    "#         if target in nums:\n",
    "#             return nums.index(target)\n",
    "#         else:\n",
    "#             try: \n",
    "#                 if nums[target] > target and nums[target - 1] < target:\n",
    "#                     return target - 1\n",
    "#                 else:\n",
    "#                     return target - 2\n",
    "#             except:\n",
    "#                 return target - 1\n",
    "                    \n",
    "    \n",
    "# Solution().searchInsert([1,3,5,6] , 7)"
   ]
  },
  {
   "cell_type": "code",
   "execution_count": 2,
   "metadata": {},
   "outputs": [],
   "source": [
    "class Solution:\n",
    "    def searchInsert(self, nums: list[int], target: int) -> int:\n",
    "        if target in nums:\n",
    "            return nums.index(target)\n",
    "        else:\n",
    "            nums.append(target)\n",
    "            nums.sort()\n",
    "            return nums.index(target)\n",
    "                    \n",
    "    \n",
    "# Solution().searchInsert([7] , 5)\n",
    "Solution().searchInsert([1,3,5] , 4)"
   ]
  },
  {
   "cell_type": "code",
   "execution_count": 7,
   "metadata": {},
   "outputs": [],
   "source": [
    "# class Solution(object):\n",
    "#     def searchInsert(self, nums, target):\n",
    "#         \"\"\"\n",
    "#         :type nums: List[int]\n",
    "#         :type target: int\n",
    "#         :rtype: int\n",
    "#         \"\"\"\n",
    "#         if target in nums:\n",
    "#             return nums.index(target)\n",
    "#         else:\n",
    "#             nums.append(target)\n",
    "#             nums.sort()\n",
    "#             return nums.index(target)\n",
    "\n",
    "\n",
    "k = [11, 33, 4354,222345,12344566]\n",
    "\n",
    "def work(k):\n",
    "\n",
    "    target = 44\n",
    "    left = 0\n",
    "    right = len(k) - 1\n",
    "\n",
    "    while left <= right:\n",
    "        mid = (left + right ) // 2\n",
    "        if k[mid] == target:\n",
    "            return mid\n",
    "        elif k[mid] < target:\n",
    "            left += 1\n",
    "        else:\n",
    "            right = right - 1\n",
    "        \n",
    "work(k)"
   ]
  }
 ],
 "metadata": {
  "kernelspec": {
   "display_name": "Python 3",
   "language": "python",
   "name": "python3"
  },
  "language_info": {
   "codemirror_mode": {
    "name": "ipython",
    "version": 3
   },
   "file_extension": ".py",
   "mimetype": "text/x-python",
   "name": "python",
   "nbconvert_exporter": "python",
   "pygments_lexer": "ipython3",
   "version": "3.10.6"
  }
 },
 "nbformat": 4,
 "nbformat_minor": 2
}
