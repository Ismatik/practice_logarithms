{
 "cells": [
  {
   "cell_type": "markdown",
   "metadata": {},
   "source": [
    "A phrase is a palindrome if, after converting all uppercase letters into lowercase letters and removing all non-alphanumeric characters, it reads the same forward and backward. Alphanumeric characters include letters and numbers.\n",
    "\n",
    "Given a string s, return true if it is a palindrome, or false otherwise.\n",
    "\n",
    " \n",
    "\n",
    "Example 1:\n",
    "\n",
    "Input: s = \"A man, a plan, a canal: Panama\"\n",
    "Output: true\n",
    "Explanation: \"amanaplanacanalpanama\" is a palindrome.\n",
    "Example 2:\n",
    "\n",
    "Input: s = \"race a car\"\n",
    "Output: false\n",
    "Explanation: \"raceacar\" is not a palindrome.\n",
    "Example 3:\n",
    "\n",
    "Input: s = \" \"\n",
    "Output: true\n",
    "Explanation: s is an empty string \"\" after removing non-alphanumeric characters.\n",
    "Since an empty string reads the same forward and backward, it is a palindrome.\n",
    " \n",
    "\n",
    "Constraints:\n",
    "\n",
    "1 <= s.length <= 2 * 105\n",
    "s consists only of printable ASCII characters."
   ]
  },
  {
   "cell_type": "code",
   "execution_count": 45,
   "metadata": {},
   "outputs": [],
   "source": [
    "def valid_palindrome(text):\n",
    "    text = \"\".join(filter(str.isalnum , text)).lower()\n",
    "    if text == \"\" or len(text) == 1:\n",
    "        return True\n",
    "    i = 0\n",
    "    j = -1\n",
    "    while i <= len(text) // 2:\n",
    "        if text[i] == text[j]:\n",
    "            i += 1\n",
    "            j -= 1\n",
    "        else: return False\n",
    "    return True"
   ]
  },
  {
   "cell_type": "code",
   "execution_count": 46,
   "metadata": {},
   "outputs": [
    {
     "name": "stdout",
     "output_type": "stream",
     "text": [
      "True\n"
     ]
    }
   ],
   "source": [
    "print(valid_palindrome(\".,\"))"
   ]
  },
  {
   "cell_type": "code",
   "execution_count": 6,
   "metadata": {},
   "outputs": [
    {
     "name": "stdout",
     "output_type": "stream",
     "text": [
      "Original string:  HELLO! This , is@an’Example String:\n",
      "Updated string:  HELLOThisisanExampleString\n"
     ]
    }
   ],
   "source": [
    "v1 = \"HELLO! This , is@an’Example String:\"\n",
    "# print (\"Original string: \", v1)\n",
    "v2 = \"\".join(filter(str.isalnum, v1))\n",
    "# print (\"Updated string: \", v2)"
   ]
  }
 ],
 "metadata": {
  "kernelspec": {
   "display_name": "Python 3",
   "language": "python",
   "name": "python3"
  },
  "language_info": {
   "codemirror_mode": {
    "name": "ipython",
    "version": 3
   },
   "file_extension": ".py",
   "mimetype": "text/x-python",
   "name": "python",
   "nbconvert_exporter": "python",
   "pygments_lexer": "ipython3",
   "version": "3.12.0"
  }
 },
 "nbformat": 4,
 "nbformat_minor": 2
}
