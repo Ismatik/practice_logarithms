{
 "cells": [
  {
   "cell_type": "markdown",
   "metadata": {},
   "source": [
    "Given a string s containing just the characters '(', ')', '{', '}', '[' and ']', determine if the input string is valid.\n",
    "\n",
    "An input string is valid if:\n",
    "\n",
    "Open brackets must be closed by the same type of brackets.\n",
    "Open brackets must be closed in the correct order.\n",
    "Every close bracket has a corresponding open bracket of the same type.\n",
    " \n",
    "\n",
    "Example 1:\n",
    "\n",
    "Input: s = \"()\"\n",
    "Output: true\n",
    "Example 2:\n",
    "\n",
    "Input: s = \"()[]{}\"\n",
    "Output: true\n",
    "Example 3:\n",
    "\n",
    "Input: s = \"(]\"\n",
    "Output: false\n",
    " \n",
    "\n",
    "Constraints:\n",
    "\n",
    "1 <= s.length <= 104\n",
    "s consists of parentheses only '()[]{}'."
   ]
  },
  {
   "cell_type": "code",
   "execution_count": 37,
   "metadata": {},
   "outputs": [
    {
     "data": {
      "text/plain": [
       "False"
      ]
     },
     "execution_count": 37,
     "metadata": {},
     "output_type": "execute_result"
    }
   ],
   "source": [
    "class Solution:\n",
    "    def isValid(self, s: str) -> bool:\n",
    "        for i in range(len(s) // 2):\n",
    "            if not (\"({[\".find(s[i]) == (\")}]\".find(s[-i-1]))):\n",
    "                return False\n",
    "        return True\n",
    "\n",
    "            \n",
    "        \n",
    "            \n",
    "Solution().isValid(\"()[]{}\")"
   ]
  },
  {
   "cell_type": "code",
   "execution_count": 11,
   "metadata": {},
   "outputs": [
    {
     "name": "stdout",
     "output_type": "stream",
     "text": [
      "['(']\n",
      "['(', '[']\n"
     ]
    },
    {
     "data": {
      "text/plain": [
       "False"
      ]
     },
     "execution_count": 11,
     "metadata": {},
     "output_type": "execute_result"
    }
   ],
   "source": [
    "class Solution(object):\n",
    "    def isValid(self, s):\n",
    "        stack = [] # create an empty stack to store opening brackets\n",
    "        for c in s: # loop through each character in the string\n",
    "            if c in '([{': # if the character is an opening bracket\n",
    "                stack.append(c) # push it onto the stack\n",
    "                print(stack)\n",
    "            else: # if the character is a closing bracket\n",
    "                if not stack or \\\n",
    "                    (c == ')' and stack[-1] != '(') or \\\n",
    "                    (c == '}' and stack[-1] != '{') or \\\n",
    "                    (c == ']' and stack[-1] != '['):\n",
    "                    return False # the string is not valid, so return false\n",
    "                stack.pop() # otherwise, pop the opening bracket from the stack\n",
    "                print(stack)\n",
    "        return not stack # if the stack is empty, all opening brackets have been matched with their corresponding closing brackets,\n",
    "                         # so the string is valid, otherwise, there are unmatched opening brackets, so return false\n",
    "\n",
    "\n",
    "Solution().isValid(\"([)]\")"
   ]
  },
  {
   "cell_type": "code",
   "execution_count": 5,
   "metadata": {},
   "outputs": [
    {
     "name": "stdout",
     "output_type": "stream",
     "text": [
      "False\n"
     ]
    }
   ],
   "source": [
    "print(not [1,2,3,4])"
   ]
  }
 ],
 "metadata": {
  "kernelspec": {
   "display_name": "Python 3",
   "language": "python",
   "name": "python3"
  },
  "language_info": {
   "codemirror_mode": {
    "name": "ipython",
    "version": 3
   },
   "file_extension": ".py",
   "mimetype": "text/x-python",
   "name": "python",
   "nbconvert_exporter": "python",
   "pygments_lexer": "ipython3",
   "version": "3.12.0"
  }
 },
 "nbformat": 4,
 "nbformat_minor": 2
}
