{
 "cells": [
  {
   "cell_type": "markdown",
   "metadata": {},
   "source": [
    "Given a non-negative integer x, return the square root of x rounded down to the nearest integer. The returned integer should be non-negative as well.\n",
    "\n",
    "You must not use any built-in exponent function or operator.\n",
    "\n",
    "For example, do not use pow(x, 0.5) in c++ or x ** 0.5 in python.\n",
    " \n",
    "\n",
    "Example 1:\n",
    "\n",
    "Input: x = 4\n",
    "Output: 2\n",
    "Explanation: The square root of 4 is 2, so we return 2.\n",
    "Example 2:\n",
    "\n",
    "Input: x = 8\n",
    "Output: 2\n",
    "Explanation: The square root of 8 is 2.82842..., and since we round it down to the nearest integer, 2 is returned."
   ]
  },
  {
   "cell_type": "code",
   "execution_count": 13,
   "metadata": {},
   "outputs": [
    {
     "data": {
      "text/plain": [
       "2"
      ]
     },
     "execution_count": 13,
     "metadata": {},
     "output_type": "execute_result"
    }
   ],
   "source": [
    "# import math\n",
    "\n",
    "# class Solution(object):\n",
    "#     def mySqrt(self, x):\n",
    "#         \"\"\"\n",
    "#         :type x: int\n",
    "#         :rtype: int\n",
    "#         \"\"\"\n",
    "#         y = x\n",
    "#         for i in range(10):\n",
    "#             y = (y + x/y)/2 \n",
    "#         return int(y)\n",
    "    \n",
    "# Solution().mySqrt(8)"
   ]
  },
  {
   "cell_type": "code",
   "execution_count": 14,
   "metadata": {},
   "outputs": [
    {
     "data": {
      "text/plain": [
       "46339"
      ]
     },
     "execution_count": 14,
     "metadata": {},
     "output_type": "execute_result"
    }
   ],
   "source": [
    "class Solution(object):\n",
    "    def mySqrt(self, x):\n",
    "        \"\"\"\n",
    "        :type x: int\n",
    "        :rtype: int\n",
    "        \"\"\"\n",
    "        left = 0\n",
    "        right = x\n",
    "        while (left <= right):\n",
    "            mid = (left + right ) //2\n",
    "            if mid * mid > x:\n",
    "                right = mid - 1\n",
    "            elif mid*mid < x:\n",
    "                left = mid + 1\n",
    "            else:\n",
    "                return mid\n",
    "            \n",
    "        return left\n",
    "            \n",
    "Solution().mySqrt(2147395599)"
   ]
  },
  {
   "cell_type": "code",
   "execution_count": 7,
   "metadata": {},
   "outputs": [
    {
     "data": {
      "text/plain": [
       "46339"
      ]
     },
     "execution_count": 7,
     "metadata": {},
     "output_type": "execute_result"
    }
   ],
   "source": [
    "# class Solution(object):\n",
    "#     def mySqrt(self, x):\n",
    "#         \"\"\"\n",
    "#         :type x: int\n",
    "#         :rtype: int\n",
    "#         \"\"\"\n",
    "#         x1 = float(10**((len(str(x))+1)//2))\n",
    "\n",
    "#         while int(x1 * x1) > x:\n",
    "#             x1 = (x1 + x / x1) / 2\n",
    "\n",
    "#         return int(x1)\n",
    "    \n",
    "# Solution().mySqrt(2147395599)"
   ]
  }
 ],
 "metadata": {
  "kernelspec": {
   "display_name": "Python 3",
   "language": "python",
   "name": "python3"
  },
  "language_info": {
   "codemirror_mode": {
    "name": "ipython",
    "version": 3
   },
   "file_extension": ".py",
   "mimetype": "text/x-python",
   "name": "python",
   "nbconvert_exporter": "python",
   "pygments_lexer": "ipython3",
   "version": "3.12.0"
  }
 },
 "nbformat": 4,
 "nbformat_minor": 2
}
